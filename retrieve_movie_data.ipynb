{
 "cells": [
  {
   "cell_type": "markdown",
   "metadata": {},
   "source": [
    "### Import Required Libraries and Set Up Environment Variables"
   ]
  },
  {
   "cell_type": "code",
   "execution_count": 1,
   "metadata": {},
   "outputs": [],
   "source": [
    "# Dependencies\n",
    "import requests\n",
    "import time\n",
    "from dotenv import load_dotenv\n",
    "import os\n",
    "import pandas as pd\n",
    "import json"
   ]
  },
  {
   "cell_type": "code",
   "execution_count": 2,
   "metadata": {},
   "outputs": [
    {
     "name": "stdout",
     "output_type": "stream",
     "text": [
      "Requirement already satisfied: python-dotenv in /Users/beau/anaconda3/envs/dev/lib/python3.10/site-packages (1.0.1)\n",
      "Note: you may need to restart the kernel to use updated packages.\n"
     ]
    }
   ],
   "source": [
    "pip install python-dotenv"
   ]
  },
  {
   "cell_type": "code",
   "execution_count": null,
   "metadata": {},
   "outputs": [],
   "source": []
  },
  {
   "cell_type": "code",
   "execution_count": 3,
   "metadata": {},
   "outputs": [],
   "source": [
    "# Set environment variables from the .env in the local environment\n",
    "load_dotenv()\n",
    "\n",
    "nyt_api_key = os.getenv(\"NYT_API_KEY\")\n",
    "tmdb_api_key = os.getenv(\"TMDB_API_KEY\")"
   ]
  },
  {
   "cell_type": "code",
   "execution_count": 4,
   "metadata": {},
   "outputs": [
    {
     "name": "stdout",
     "output_type": "stream",
     "text": [
      "1b5zds6gWGokXaLgBHuj9hd6jSCI66lE\n",
      "a3e37d80b0dd625b03450572d8c48416\n"
     ]
    }
   ],
   "source": [
    "print(nyt_api_key)\n",
    "print(tmdb_api_key)"
   ]
  },
  {
   "cell_type": "markdown",
   "metadata": {},
   "source": [
    "### Access the New York Times API"
   ]
  },
  {
   "cell_type": "code",
   "execution_count": 5,
   "metadata": {},
   "outputs": [
    {
     "name": "stdout",
     "output_type": "stream",
     "text": [
      "https://api.nytimes.com/svc/search/v2/articlesearch.json?api-key=1b5zds6gWGokXaLgBHuj9hd6jSCI66lE&begin_date=20130101&end_date=20230531&fq=section_name:\"Movies\" AND type_of_material:\"Review\" AND headline:\"love\"&sort=newest&fl=headline,web_url,snippet,source,keywords,pub_date,byline,word_count\n"
     ]
    }
   ],
   "source": [
    "# Set the base URL\n",
    "url = \"https://api.nytimes.com/svc/search/v2/articlesearch.json?\"\n",
    "\n",
    "# Filter for movie reviews with \"love\" in the headline\n",
    "# section_name should be \"Movies\"\n",
    "# type_of_material should be \"Review\"\n",
    "filter_query = 'section_name:\"Movies\" AND type_of_material:\"Review\" AND headline:\"love\"'\n",
    "\n",
    "# Use a sort filter, sort by newest\n",
    "sort = \"newest\"\n",
    "\n",
    "# Select the following fields to return:\n",
    "# headline, web_url, snippet, source, keywords, pub_date, byline, word_count\n",
    "field_list = \"headline,web_url,snippet,source,keywords,pub_date,byline,word_count\"\n",
    "\n",
    "# Search for reviews published between a begin and end date\n",
    "begin_date = \"20130101\"\n",
    "end_date = \"20230531\"\n",
    "\n",
    "# Build URL\n",
    "api_key = \"1b5zds6gWGokXaLgBHuj9hd6jSCI66lE\" \n",
    "\n",
    "query_url = (f\"{url}api-key={nyt_api_key}&begin_date={begin_date}&end_date={end_date}&fq={filter_query}&sort={sort}&fl={field_list}\")\n",
    "\n",
    "print(query_url)"
   ]
  },
  {
   "cell_type": "code",
   "execution_count": 6,
   "metadata": {},
   "outputs": [
    {
     "name": "stdout",
     "output_type": "stream",
     "text": [
      "Retrieving page 0 of reviews...\n"
     ]
    },
    {
     "name": "stdout",
     "output_type": "stream",
     "text": [
      "Page 0 retrieved\n",
      "Retrieving page 1 of reviews...\n",
      "Page 1 retrieved\n",
      "Retrieving page 2 of reviews...\n",
      "Page 2 retrieved\n"
     ]
    }
   ],
   "source": [
    "# Create an empty list to store the reviews\n",
    "reviews_list = []\n",
    "\n",
    "# loop through pages 0-19\n",
    "for page in range(3):\n",
    "    # create query with a page number\n",
    "    page_url = f\"{query_url}&page={page}\"\n",
    "    # API results show 10 articles at a time\n",
    "    print(f\"Retrieving page {page} of reviews...\")\n",
    "    \n",
    "    # Make a \"GET\" request and retrieve the JSON\n",
    "    response = requests.get(page_url)\n",
    "    reviews = response.json()\n",
    "    \n",
    "    # Add a twelve second interval between queries to stay within API query limits\n",
    "    time.sleep(12)\n",
    "    \n",
    "    # Try and save the reviews to the reviews_list\n",
    "    try:\n",
    "        # loop through the reviews[\"response\"][\"docs\"] and append each review to the list\n",
    "        for review in reviews[\"response\"][\"docs\"]:\n",
    "            reviews_list.append(review)\n",
    "\n",
    "        # Print the page that was just retrieved\n",
    "        print(f\"Page {page} retrieved\") \n",
    "\n",
    "    except KeyError:\n",
    "        # Print the page number that had no results then break from the loop\n",
    "        print(f\"No results on page {page}\")\n",
    "        break"
   ]
  },
  {
   "cell_type": "code",
   "execution_count": null,
   "metadata": {},
   "outputs": [],
   "source": []
  },
  {
   "cell_type": "code",
   "execution_count": 7,
   "metadata": {},
   "outputs": [
    {
     "name": "stdout",
     "output_type": "stream",
     "text": [
      "[\n",
      "    {\n",
      "        \"web_url\": \"https://www.nytimes.com/2023/05/25/movies/the-attachment-diaries-review.html\",\n",
      "        \"snippet\": \"A gynecologist and her patient form a horrifyingly twisted connection in this batty, bloody Argentine melodrama.\",\n",
      "        \"source\": \"The New York Times\",\n",
      "        \"headline\": {\n",
      "            \"main\": \"\\u2018The Attachment Diaries\\u2019 Review: Love, Sick\",\n",
      "            \"kicker\": null,\n",
      "            \"content_kicker\": null,\n",
      "            \"print_headline\": \"The Attachment Diaries\",\n",
      "            \"name\": null,\n",
      "            \"seo\": null,\n",
      "            \"sub\": null\n",
      "        },\n",
      "        \"keywords\": [\n",
      "            {\n",
      "                \"name\": \"subject\",\n",
      "                \"value\": \"Movies\",\n",
      "                \"rank\": 1,\n",
      "                \"major\": \"N\"\n",
      "            },\n",
      "            {\n",
      "                \"name\": \"creative_works\",\n",
      "                \"value\": \"The Attachment Diaries (Movie)\",\n",
      "                \"rank\": 2,\n",
      "                \"major\": \"N\"\n",
      "            },\n",
      "            {\n",
      "                \"name\": \"persons\",\n",
      "                \"value\": \"Diment, Valentin Javier\",\n",
      "                \"rank\": 3,\n",
      "                \"major\": \"N\"\n",
      "            }\n",
      "        ],\n",
      "        \"pub_date\": \"2023-05-25T11:00:03+0000\",\n",
      "        \"byline\": {\n",
      "            \"original\": \"By Jeannette Catsoulis\",\n",
      "            \"person\": [\n",
      "                {\n",
      "                    \"firstname\": \"Jeannette\",\n",
      "                    \"middlename\": null,\n",
      "                    \"lastname\": \"Catsoulis\",\n",
      "                    \"qualifier\": null,\n",
      "                    \"title\": null,\n",
      "                    \"role\": \"reported\",\n",
      "                    \"organization\": \"\",\n",
      "                    \"rank\": 1\n",
      "                }\n",
      "            ],\n",
      "            \"organization\": null\n",
      "        },\n",
      "        \"word_count\": 295\n",
      "    },\n",
      "    {\n",
      "        \"web_url\": \"https://www.nytimes.com/2023/05/04/movies/whats-love-got-to-do-with-it-review.html\",\n",
      "        \"snippet\": \"Two childhood friends navigate cultural differences in this pleasantly uncontentious romantic comedy.\",\n",
      "        \"source\": \"The New York Times\",\n",
      "        \"headline\": {\n",
      "            \"main\": \"Review: \\u2018What\\u2019s Love Got to Do With It?\\u2019 Probably a Lot\",\n",
      "            \"kicker\": null,\n",
      "            \"content_kicker\": null,\n",
      "            \"print_headline\": \"What\\u2019s Love Got to Do With It?\",\n",
      "            \"name\": null,\n",
      "            \"seo\": null,\n",
      "            \"sub\": null\n",
      "        },\n",
      "        \"keywords\": [\n",
      "            {\n",
      "                \"name\": \"subject\",\n",
      "                \"value\": \"Movies\",\n",
      "                \"rank\": 1,\n",
      "                \"major\": \"N\"\n",
      "            },\n",
      "            {\n",
      "                \"name\": \"persons\",\n",
      "                \"value\": \"Kapur, Shekhar\",\n",
      "                \"rank\": 2,\n",
      "                \"major\": \"N\"\n",
      "            },\n",
      "            {\n",
      "                \"name\": \"persons\",\n",
      "                \"value\": \"James, Lily\",\n",
      "                \"rank\": 3,\n",
      "                \"major\": \"N\"\n",
      "            },\n",
      "            {\n",
      "                \"name\": \"persons\",\n",
      "                \"value\": \"Azmi, Shabana\",\n",
      "                \"rank\": 4,\n",
      "                \"major\": \"N\"\n",
      "            },\n",
      "            {\n",
      "                \"name\": \"persons\",\n",
      "                \"value\": \"Thompson, Emma\",\n",
      "                \"rank\": 5,\n",
      "                \"major\": \"N\"\n",
      "            }\n",
      "        ],\n",
      "        \"pub_date\": \"2023-05-04T17:16:45+0000\",\n",
      "        \"byline\": {\n",
      "            \"original\": \"By Jeannette Catsoulis\",\n",
      "            \"person\": [\n",
      "                {\n",
      "                    \"firstname\": \"Jeannette\",\n",
      "                    \"middlename\": null,\n",
      "                    \"lastname\": \"Catsoulis\",\n",
      "                    \"qualifier\": null,\n",
      "                    \"title\": null,\n",
      "                    \"role\": \"reported\",\n",
      "                    \"organization\": \"\",\n",
      "                    \"rank\": 1\n",
      "                }\n",
      "            ],\n",
      "            \"organization\": null\n",
      "        },\n",
      "        \"word_count\": 287\n",
      "    },\n",
      "    {\n",
      "        \"web_url\": \"https://www.nytimes.com/2023/05/04/movies/you-can-live-forever-review.html\",\n",
      "        \"snippet\": \"Religion comes between two girls falling in love in the 1990s in this sweet coming-of-age film bathed in grunge hues.\",\n",
      "        \"source\": \"The New York Times\",\n",
      "        \"headline\": {\n",
      "            \"main\": \"\\u2018You Can Live Forever\\u2019 Review: Do You Love Me Now?\",\n",
      "            \"kicker\": null,\n",
      "            \"content_kicker\": null,\n",
      "            \"print_headline\": \"You Can Live Forever\",\n",
      "            \"name\": null,\n",
      "            \"seo\": null,\n",
      "            \"sub\": null\n",
      "        },\n",
      "        \"keywords\": [\n",
      "            {\n",
      "                \"name\": \"subject\",\n",
      "                \"value\": \"Movies\",\n",
      "                \"rank\": 1,\n",
      "                \"major\": \"N\"\n",
      "            },\n",
      "            {\n",
      "                \"name\": \"creative_works\",\n",
      "                \"value\": \"You Can Live Forever (Movie)\",\n",
      "                \"rank\": 2,\n",
      "                \"major\": \"N\"\n",
      "            },\n",
      "            {\n",
      "                \"name\": \"persons\",\n",
      "                \"value\": \"Slutsky, Mark\",\n",
      "                \"rank\": 3,\n",
      "                \"major\": \"N\"\n",
      "            },\n",
      "            {\n",
      "                \"name\": \"persons\",\n",
      "                \"value\": \"Watts, Sarah (Film Director)\",\n",
      "                \"rank\": 4,\n",
      "                \"major\": \"N\"\n",
      "            },\n",
      "            {\n",
      "                \"name\": \"persons\",\n",
      "                \"value\": \"O'Driscoll, Anwen\",\n",
      "                \"rank\": 5,\n",
      "                \"major\": \"N\"\n",
      "            },\n",
      "            {\n",
      "                \"name\": \"persons\",\n",
      "                \"value\": \"Laporte, June (Actor)\",\n",
      "                \"rank\": 6,\n",
      "                \"major\": \"N\"\n",
      "            }\n",
      "        ],\n",
      "        \"pub_date\": \"2023-05-04T11:00:08+0000\",\n",
      "        \"byline\": {\n",
      "            \"original\": \"By Elisabeth Vincentelli\",\n",
      "            \"person\": [\n",
      "                {\n",
      "                    \"firstname\": \"Elisabeth\",\n",
      "                    \"middlename\": null,\n",
      "                    \"lastname\": \"Vincentelli\",\n",
      "                    \"qualifier\": null,\n",
      "                    \"title\": null,\n",
      "                    \"role\": \"reported\",\n",
      "                    \"organization\": \"\",\n",
      "                    \"rank\": 1\n",
      "                }\n",
      "            ],\n",
      "            \"organization\": null\n",
      "        },\n",
      "        \"word_count\": 294\n",
      "    },\n",
      "    {\n",
      "        \"web_url\": \"https://www.nytimes.com/2023/04/21/movies/a-tourists-guide-to-love-review.html\",\n",
      "        \"snippet\": \"Rachael Leigh Cook stars in this bland rom-com as a travel executive exploring Vietnam and getting over a breakup.\",\n",
      "        \"source\": \"The New York Times\",\n",
      "        \"headline\": {\n",
      "            \"main\": \"\\u2018A Tourist\\u2019s Guide to Love\\u2019 Review: A Wearyingly Familiar Trip\",\n",
      "            \"kicker\": null,\n",
      "            \"content_kicker\": null,\n",
      "            \"print_headline\": \"A Tourist\\u2019s  Guide to Love\",\n",
      "            \"name\": null,\n",
      "            \"seo\": null,\n",
      "            \"sub\": null\n",
      "        },\n",
      "        \"keywords\": [\n",
      "            {\n",
      "                \"name\": \"subject\",\n",
      "                \"value\": \"Movies\",\n",
      "                \"rank\": 1,\n",
      "                \"major\": \"N\"\n",
      "            },\n",
      "            {\n",
      "                \"name\": \"creative_works\",\n",
      "                \"value\": \"A Tourist's Guide to Love (Movie)\",\n",
      "                \"rank\": 2,\n",
      "                \"major\": \"N\"\n",
      "            },\n",
      "            {\n",
      "                \"name\": \"persons\",\n",
      "                \"value\": \"Tsuchida, Steven\",\n",
      "                \"rank\": 3,\n",
      "                \"major\": \"N\"\n",
      "            },\n",
      "            {\n",
      "                \"name\": \"persons\",\n",
      "                \"value\": \"Cook, Rachael Leigh\",\n",
      "                \"rank\": 4,\n",
      "                \"major\": \"N\"\n",
      "            }\n",
      "        ],\n",
      "        \"pub_date\": \"2023-04-21T07:03:25+0000\",\n",
      "        \"byline\": {\n",
      "            \"original\": \"By Elisabeth Vincentelli\",\n",
      "            \"person\": [\n",
      "                {\n",
      "                    \"firstname\": \"Elisabeth\",\n",
      "                    \"middlename\": null,\n",
      "                    \"lastname\": \"Vincentelli\",\n",
      "                    \"qualifier\": null,\n",
      "                    \"title\": null,\n",
      "                    \"role\": \"reported\",\n",
      "                    \"organization\": \"\",\n",
      "                    \"rank\": 1\n",
      "                }\n",
      "            ],\n",
      "            \"organization\": null\n",
      "        },\n",
      "        \"word_count\": 276\n",
      "    },\n",
      "    {\n",
      "        \"web_url\": \"https://www.nytimes.com/2023/04/20/movies/other-peoples-children-review.html\",\n",
      "        \"snippet\": \"A radiant Virginie Efira stars as a Parisian teacher who blissfully falls for a man and his 4-year-old daughter, complicating everyone\\u2019s lives.\",\n",
      "        \"source\": \"The New York Times\",\n",
      "        \"headline\": {\n",
      "            \"main\": \"\\u2018Other People\\u2019s Children\\u2019 Review: True Romance\",\n",
      "            \"kicker\": \"Critic\\u2019s pick\",\n",
      "            \"content_kicker\": null,\n",
      "            \"print_headline\": \"Intoxicating Love With a Sobering Turn\",\n",
      "            \"name\": null,\n",
      "            \"seo\": null,\n",
      "            \"sub\": null\n",
      "        },\n",
      "        \"keywords\": [\n",
      "            {\n",
      "                \"name\": \"subject\",\n",
      "                \"value\": \"Movies\",\n",
      "                \"rank\": 1,\n",
      "                \"major\": \"N\"\n",
      "            },\n",
      "            {\n",
      "                \"name\": \"persons\",\n",
      "                \"value\": \"Zlotowski, Rebecca\",\n",
      "                \"rank\": 2,\n",
      "                \"major\": \"N\"\n",
      "            },\n",
      "            {\n",
      "                \"name\": \"creative_works\",\n",
      "                \"value\": \"Other People's Children (Movie)\",\n",
      "                \"rank\": 3,\n",
      "                \"major\": \"N\"\n",
      "            }\n",
      "        ],\n",
      "        \"pub_date\": \"2023-04-20T15:35:13+0000\",\n",
      "        \"byline\": {\n",
      "            \"original\": \"By Manohla Dargis\",\n",
      "            \"person\": [\n",
      "                {\n",
      "                    \"firstname\": \"Manohla\",\n",
      "                    \"middlename\": null,\n",
      "                    \"lastname\": \"Dargis\",\n",
      "                    \"qualifier\": null,\n",
      "                    \"title\": null,\n",
      "                    \"role\": \"reported\",\n",
      "                    \"organization\": \"\",\n",
      "                    \"rank\": 1\n",
      "                }\n",
      "            ],\n",
      "            \"organization\": null\n",
      "        },\n",
      "        \"word_count\": 801\n",
      "    }\n",
      "]\n"
     ]
    }
   ],
   "source": [
    "# Preview the first 5 results in JSON format\n",
    "# Use json.dumps with argument indent=4 to format data\n",
    "print(json.dumps(reviews_list[:5], indent=4))\n"
   ]
  },
  {
   "cell_type": "code",
   "execution_count": 8,
   "metadata": {},
   "outputs": [],
   "source": [
    "# Convert reviews_list to a Pandas DataFrame using json_normalize()\n",
    "df = pd.json_normalize(reviews_list)"
   ]
  },
  {
   "cell_type": "code",
   "execution_count": 9,
   "metadata": {},
   "outputs": [],
   "source": [
    "# Extract the title from the \"headline.main\" column and\n",
    "# save it to a new column \"title\"\n",
    "# Title is between unicode characters \\u2018 and \\u2019. \n",
    "# End string should include \" Review\" to avoid cutting title early\n",
    "df['title'] = df['headline.main'].str.extract(\"\\u2018(.+?)\\u2019 Review\")"
   ]
  },
  {
   "cell_type": "code",
   "execution_count": 10,
   "metadata": {},
   "outputs": [],
   "source": [
    "# Extract 'name' and 'value' from items in \"keywords\" column\n",
    "def extract_keywords(keyword_list):\n",
    "    extracted_keywords = \"\"\n",
    "    for item in keyword_list:\n",
    "        # Extract 'name' and 'value'\n",
    "        keyword = f\"{item['name']}: {item['value']};\" \n",
    "        # Append the keyword item to the extracted_keywords list\n",
    "        extracted_keywords += keyword\n",
    "    return extracted_keywords\n",
    "\n",
    "# Fix the \"keywords\" column by converting cells from a list to a string\n",
    "df['keywords'] = df['keywords'].apply(extract_keywords)"
   ]
  },
  {
   "cell_type": "code",
   "execution_count": 11,
   "metadata": {
    "scrolled": true
   },
   "outputs": [],
   "source": [
    "# Create a list from the \"title\" column using to_list()\n",
    "# These titles will be used in the query for The Movie Database\n",
    "titles = df['title'].to_list()"
   ]
  },
  {
   "cell_type": "markdown",
   "metadata": {},
   "source": [
    "### Access The Movie Database API"
   ]
  },
  {
   "cell_type": "code",
   "execution_count": 12,
   "metadata": {},
   "outputs": [],
   "source": [
    "# Prepare The Movie Database query\n",
    "url = \"https://api.themoviedb.org/3/search/movie?query=\"\n",
    "tmdb_key_string = \"&api_key=\" + tmdb_api_key"
   ]
  },
  {
   "cell_type": "code",
   "execution_count": null,
   "metadata": {},
   "outputs": [],
   "source": [
    "# Create an empty list to store the results\n",
    "tmdb_movies_list = []\n",
    "\n",
    "# Create a request counter to sleep the requests after a multiple\n",
    "# of 50 requests\n",
    "request_counter = 0\n",
    "\n",
    "\n",
    "# Loop through the titles\n",
    "\n",
    "\n",
    "    # Check if we need to sleep before making a request\n",
    "\n",
    "    # Add 1 to the request counter\n",
    "    \n",
    "    \n",
    "    # Perform a \"GET\" request for The Movie Database\n",
    "    \n",
    "\n",
    "    # Include a try clause to search for the full movie details.\n",
    "    # Use the except clause to print out a statement if a movie\n",
    "    # is not found.\n",
    "    \n",
    "        # Get movie id\n",
    "       \n",
    "\n",
    "        # Make a request for a the full movie details\n",
    "\n",
    "        # Execute \"GET\" request with url\n",
    "        \n",
    "        \n",
    "        # Extract the genre names into a list\n",
    "\n",
    "\n",
    "        # Extract the spoken_languages' English name into a list\n",
    "\n",
    "\n",
    "        # Extract the production_countries' name into a list\n",
    "\n",
    "\n",
    "\n",
    "        # Add the relevant data to a dictionary and\n",
    "        # append it to the tmdb_movies_list list\n",
    "        \n",
    "\n",
    "        \n",
    "        # Print out the title that was found\n",
    "        \n",
    "    "
   ]
  },
  {
   "cell_type": "code",
   "execution_count": null,
   "metadata": {},
   "outputs": [],
   "source": [
    "# Preview the first 5 results in JSON format\n",
    "# Use json.dumps with argument indent=4 to format data\n"
   ]
  },
  {
   "cell_type": "code",
   "execution_count": null,
   "metadata": {},
   "outputs": [],
   "source": [
    "# Convert the results to a DataFrame\n"
   ]
  },
  {
   "cell_type": "markdown",
   "metadata": {},
   "source": [
    "### Merge and Clean the Data for Export"
   ]
  },
  {
   "cell_type": "code",
   "execution_count": null,
   "metadata": {
    "scrolled": true
   },
   "outputs": [],
   "source": [
    "# Merge the New York Times reviews and TMDB DataFrames on title\n"
   ]
  },
  {
   "cell_type": "code",
   "execution_count": null,
   "metadata": {},
   "outputs": [],
   "source": [
    "# Remove list brackets and quotation marks on the columns containing lists\n",
    "# Create a list of the columns that need fixing\n",
    "\n",
    "\n",
    "# Create a list of characters to remove\n",
    "\n",
    "\n",
    "# Loop through the list of columns to fix\n",
    "\n",
    "    # Convert the column to type 'str'\n",
    "\n",
    "\n",
    "    # Loop through characters to remove\n",
    "\n",
    "\n",
    "# Display the fixed DataFrame\n"
   ]
  },
  {
   "cell_type": "code",
   "execution_count": null,
   "metadata": {},
   "outputs": [],
   "source": [
    "# Drop \"byline.person\" column\n"
   ]
  },
  {
   "cell_type": "code",
   "execution_count": null,
   "metadata": {},
   "outputs": [],
   "source": [
    "# Delete duplicate rows and reset index\n"
   ]
  },
  {
   "cell_type": "code",
   "execution_count": null,
   "metadata": {},
   "outputs": [],
   "source": [
    "# Export data to CSV without the index\n"
   ]
  },
  {
   "cell_type": "code",
   "execution_count": null,
   "metadata": {},
   "outputs": [],
   "source": []
  }
 ],
 "metadata": {
  "kernelspec": {
   "display_name": "Python 3 (ipykernel)",
   "language": "python",
   "name": "python3"
  },
  "language_info": {
   "codemirror_mode": {
    "name": "ipython",
    "version": 3
   },
   "file_extension": ".py",
   "mimetype": "text/x-python",
   "name": "python",
   "nbconvert_exporter": "python",
   "pygments_lexer": "ipython3",
   "version": "3.10.13"
  },
  "varInspector": {
   "cols": {
    "lenName": 16,
    "lenType": 16,
    "lenVar": 40
   },
   "kernels_config": {
    "python": {
     "delete_cmd_postfix": "",
     "delete_cmd_prefix": "del ",
     "library": "var_list.py",
     "varRefreshCmd": "print(var_dic_list())"
    },
    "r": {
     "delete_cmd_postfix": ") ",
     "delete_cmd_prefix": "rm(",
     "library": "var_list.r",
     "varRefreshCmd": "cat(var_dic_list()) "
    }
   },
   "types_to_exclude": [
    "module",
    "function",
    "builtin_function_or_method",
    "instance",
    "_Feature"
   ],
   "window_display": false
  }
 },
 "nbformat": 4,
 "nbformat_minor": 2
}
